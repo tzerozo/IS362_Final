{
 "cells": [
  {
   "cell_type": "markdown",
   "id": "3100cc80",
   "metadata": {
    "slideshow": {
     "slide_type": "slide"
    }
   },
   "source": [
    "<h1>Motivation</h1>\n",
    "Using Kaggle as source for data, I found an interesting dataset named \"Coursera Global Skills 2021\".\n",
    "As the data is collected by a reputable online teaching company Coursera, I am intrigued by its data and how it can be beneficial to me in building a better career path and life. While the data includes global, I would like to focus only on North America only.\n",
    "During the project, I would probably only focus on \"NorthAmerica_Skills.csv\" file and also exclude the \"Canada\" region from the file.\n",
    "\n",
    "https://www.kaggle.com/ruchi798/coursera-global-skills-2021?select=NorthAmerica_Skills.csv"
   ]
  },
  {
   "cell_type": "code",
   "execution_count": 35,
   "id": "37a4e114",
   "metadata": {
    "slideshow": {
     "slide_type": "slide"
    }
   },
   "outputs": [],
   "source": [
    "import pandas as pan\n",
    "import numpy as num\n",
    "import seaborn as sea\n",
    "import matplotlib.pyplot as plt\n",
    "%matplotlib inline\n"
   ]
  },
  {
   "cell_type": "markdown",
   "id": "981a1402",
   "metadata": {
    "slideshow": {
     "slide_type": "slide"
    }
   },
   "source": [
    "### read data from website"
   ]
  },
  {
   "cell_type": "code",
   "execution_count": 36,
   "id": "9dbd41ff",
   "metadata": {
    "scrolled": true,
    "slideshow": {
     "slide_type": "slide"
    }
   },
   "outputs": [
    {
     "ename": "ParserError",
     "evalue": "Error tokenizing data. C error: Expected 1 fields in line 7, saw 2\n",
     "output_type": "error",
     "traceback": [
      "\u001b[1;31m---------------------------------------------------------------------------\u001b[0m",
      "\u001b[1;31mParserError\u001b[0m                               Traceback (most recent call last)",
      "\u001b[1;32m<ipython-input-36-851e9021a32e>\u001b[0m in \u001b[0;36m<module>\u001b[1;34m\u001b[0m\n\u001b[1;32m----> 1\u001b[1;33m \u001b[0mskills\u001b[0m \u001b[1;33m=\u001b[0m \u001b[0mpan\u001b[0m\u001b[1;33m.\u001b[0m\u001b[0mread_csv\u001b[0m\u001b[1;33m(\u001b[0m\u001b[1;34m\"https://www.kaggle.com/ruchi798/coursera-global-skills-2021?select=NorthAmerica_Skills.csv\"\u001b[0m\u001b[1;33m,\u001b[0m \u001b[0mindex_col\u001b[0m\u001b[1;33m=\u001b[0m\u001b[1;32mFalse\u001b[0m\u001b[1;33m)\u001b[0m\u001b[1;33m\u001b[0m\u001b[1;33m\u001b[0m\u001b[0m\n\u001b[0m",
      "\u001b[1;32m~\\anaconda3\\lib\\site-packages\\pandas\\io\\parsers.py\u001b[0m in \u001b[0;36mread_csv\u001b[1;34m(filepath_or_buffer, sep, delimiter, header, names, index_col, usecols, squeeze, prefix, mangle_dupe_cols, dtype, engine, converters, true_values, false_values, skipinitialspace, skiprows, skipfooter, nrows, na_values, keep_default_na, na_filter, verbose, skip_blank_lines, parse_dates, infer_datetime_format, keep_date_col, date_parser, dayfirst, cache_dates, iterator, chunksize, compression, thousands, decimal, lineterminator, quotechar, quoting, doublequote, escapechar, comment, encoding, dialect, error_bad_lines, warn_bad_lines, delim_whitespace, low_memory, memory_map, float_precision, storage_options)\u001b[0m\n\u001b[0;32m    608\u001b[0m     \u001b[0mkwds\u001b[0m\u001b[1;33m.\u001b[0m\u001b[0mupdate\u001b[0m\u001b[1;33m(\u001b[0m\u001b[0mkwds_defaults\u001b[0m\u001b[1;33m)\u001b[0m\u001b[1;33m\u001b[0m\u001b[1;33m\u001b[0m\u001b[0m\n\u001b[0;32m    609\u001b[0m \u001b[1;33m\u001b[0m\u001b[0m\n\u001b[1;32m--> 610\u001b[1;33m     \u001b[1;32mreturn\u001b[0m \u001b[0m_read\u001b[0m\u001b[1;33m(\u001b[0m\u001b[0mfilepath_or_buffer\u001b[0m\u001b[1;33m,\u001b[0m \u001b[0mkwds\u001b[0m\u001b[1;33m)\u001b[0m\u001b[1;33m\u001b[0m\u001b[1;33m\u001b[0m\u001b[0m\n\u001b[0m\u001b[0;32m    611\u001b[0m \u001b[1;33m\u001b[0m\u001b[0m\n\u001b[0;32m    612\u001b[0m \u001b[1;33m\u001b[0m\u001b[0m\n",
      "\u001b[1;32m~\\anaconda3\\lib\\site-packages\\pandas\\io\\parsers.py\u001b[0m in \u001b[0;36m_read\u001b[1;34m(filepath_or_buffer, kwds)\u001b[0m\n\u001b[0;32m    466\u001b[0m \u001b[1;33m\u001b[0m\u001b[0m\n\u001b[0;32m    467\u001b[0m     \u001b[1;32mwith\u001b[0m \u001b[0mparser\u001b[0m\u001b[1;33m:\u001b[0m\u001b[1;33m\u001b[0m\u001b[1;33m\u001b[0m\u001b[0m\n\u001b[1;32m--> 468\u001b[1;33m         \u001b[1;32mreturn\u001b[0m \u001b[0mparser\u001b[0m\u001b[1;33m.\u001b[0m\u001b[0mread\u001b[0m\u001b[1;33m(\u001b[0m\u001b[0mnrows\u001b[0m\u001b[1;33m)\u001b[0m\u001b[1;33m\u001b[0m\u001b[1;33m\u001b[0m\u001b[0m\n\u001b[0m\u001b[0;32m    469\u001b[0m \u001b[1;33m\u001b[0m\u001b[0m\n\u001b[0;32m    470\u001b[0m \u001b[1;33m\u001b[0m\u001b[0m\n",
      "\u001b[1;32m~\\anaconda3\\lib\\site-packages\\pandas\\io\\parsers.py\u001b[0m in \u001b[0;36mread\u001b[1;34m(self, nrows)\u001b[0m\n\u001b[0;32m   1055\u001b[0m     \u001b[1;32mdef\u001b[0m \u001b[0mread\u001b[0m\u001b[1;33m(\u001b[0m\u001b[0mself\u001b[0m\u001b[1;33m,\u001b[0m \u001b[0mnrows\u001b[0m\u001b[1;33m=\u001b[0m\u001b[1;32mNone\u001b[0m\u001b[1;33m)\u001b[0m\u001b[1;33m:\u001b[0m\u001b[1;33m\u001b[0m\u001b[1;33m\u001b[0m\u001b[0m\n\u001b[0;32m   1056\u001b[0m         \u001b[0mnrows\u001b[0m \u001b[1;33m=\u001b[0m \u001b[0mvalidate_integer\u001b[0m\u001b[1;33m(\u001b[0m\u001b[1;34m\"nrows\"\u001b[0m\u001b[1;33m,\u001b[0m \u001b[0mnrows\u001b[0m\u001b[1;33m)\u001b[0m\u001b[1;33m\u001b[0m\u001b[1;33m\u001b[0m\u001b[0m\n\u001b[1;32m-> 1057\u001b[1;33m         \u001b[0mindex\u001b[0m\u001b[1;33m,\u001b[0m \u001b[0mcolumns\u001b[0m\u001b[1;33m,\u001b[0m \u001b[0mcol_dict\u001b[0m \u001b[1;33m=\u001b[0m \u001b[0mself\u001b[0m\u001b[1;33m.\u001b[0m\u001b[0m_engine\u001b[0m\u001b[1;33m.\u001b[0m\u001b[0mread\u001b[0m\u001b[1;33m(\u001b[0m\u001b[0mnrows\u001b[0m\u001b[1;33m)\u001b[0m\u001b[1;33m\u001b[0m\u001b[1;33m\u001b[0m\u001b[0m\n\u001b[0m\u001b[0;32m   1058\u001b[0m \u001b[1;33m\u001b[0m\u001b[0m\n\u001b[0;32m   1059\u001b[0m         \u001b[1;32mif\u001b[0m \u001b[0mindex\u001b[0m \u001b[1;32mis\u001b[0m \u001b[1;32mNone\u001b[0m\u001b[1;33m:\u001b[0m\u001b[1;33m\u001b[0m\u001b[1;33m\u001b[0m\u001b[0m\n",
      "\u001b[1;32m~\\anaconda3\\lib\\site-packages\\pandas\\io\\parsers.py\u001b[0m in \u001b[0;36mread\u001b[1;34m(self, nrows)\u001b[0m\n\u001b[0;32m   2059\u001b[0m     \u001b[1;32mdef\u001b[0m \u001b[0mread\u001b[0m\u001b[1;33m(\u001b[0m\u001b[0mself\u001b[0m\u001b[1;33m,\u001b[0m \u001b[0mnrows\u001b[0m\u001b[1;33m=\u001b[0m\u001b[1;32mNone\u001b[0m\u001b[1;33m)\u001b[0m\u001b[1;33m:\u001b[0m\u001b[1;33m\u001b[0m\u001b[1;33m\u001b[0m\u001b[0m\n\u001b[0;32m   2060\u001b[0m         \u001b[1;32mtry\u001b[0m\u001b[1;33m:\u001b[0m\u001b[1;33m\u001b[0m\u001b[1;33m\u001b[0m\u001b[0m\n\u001b[1;32m-> 2061\u001b[1;33m             \u001b[0mdata\u001b[0m \u001b[1;33m=\u001b[0m \u001b[0mself\u001b[0m\u001b[1;33m.\u001b[0m\u001b[0m_reader\u001b[0m\u001b[1;33m.\u001b[0m\u001b[0mread\u001b[0m\u001b[1;33m(\u001b[0m\u001b[0mnrows\u001b[0m\u001b[1;33m)\u001b[0m\u001b[1;33m\u001b[0m\u001b[1;33m\u001b[0m\u001b[0m\n\u001b[0m\u001b[0;32m   2062\u001b[0m         \u001b[1;32mexcept\u001b[0m \u001b[0mStopIteration\u001b[0m\u001b[1;33m:\u001b[0m\u001b[1;33m\u001b[0m\u001b[1;33m\u001b[0m\u001b[0m\n\u001b[0;32m   2063\u001b[0m             \u001b[1;32mif\u001b[0m \u001b[0mself\u001b[0m\u001b[1;33m.\u001b[0m\u001b[0m_first_chunk\u001b[0m\u001b[1;33m:\u001b[0m\u001b[1;33m\u001b[0m\u001b[1;33m\u001b[0m\u001b[0m\n",
      "\u001b[1;32mpandas\\_libs\\parsers.pyx\u001b[0m in \u001b[0;36mpandas._libs.parsers.TextReader.read\u001b[1;34m()\u001b[0m\n",
      "\u001b[1;32mpandas\\_libs\\parsers.pyx\u001b[0m in \u001b[0;36mpandas._libs.parsers.TextReader._read_low_memory\u001b[1;34m()\u001b[0m\n",
      "\u001b[1;32mpandas\\_libs\\parsers.pyx\u001b[0m in \u001b[0;36mpandas._libs.parsers.TextReader._read_rows\u001b[1;34m()\u001b[0m\n",
      "\u001b[1;32mpandas\\_libs\\parsers.pyx\u001b[0m in \u001b[0;36mpandas._libs.parsers.TextReader._tokenize_rows\u001b[1;34m()\u001b[0m\n",
      "\u001b[1;32mpandas\\_libs\\parsers.pyx\u001b[0m in \u001b[0;36mpandas._libs.parsers.raise_parser_error\u001b[1;34m()\u001b[0m\n",
      "\u001b[1;31mParserError\u001b[0m: Error tokenizing data. C error: Expected 1 fields in line 7, saw 2\n"
     ]
    }
   ],
   "source": [
    "skills = pan.read_csv(\"https://www.kaggle.com/ruchi798/coursera-global-skills-2021?select=NorthAmerica_Skills.csv\", index_col=False)"
   ]
  },
  {
   "cell_type": "markdown",
   "id": "a229750a",
   "metadata": {
    "slideshow": {
     "slide_type": "slide"
    }
   },
   "source": [
    "### Read data from file, as from website, it shows \"Parser Error\""
   ]
  },
  {
   "cell_type": "code",
   "execution_count": 5,
   "id": "52e1be57",
   "metadata": {
    "slideshow": {
     "slide_type": "slide"
    }
   },
   "outputs": [],
   "source": [
    "skills = pan.read_csv('NorthAmerica_Skills.csv', index_col=False)"
   ]
  },
  {
   "cell_type": "code",
   "execution_count": 6,
   "id": "40ab208a",
   "metadata": {
    "slideshow": {
     "slide_type": "slide"
    }
   },
   "outputs": [
    {
     "data": {
      "text/html": [
       "<div>\n",
       "<style scoped>\n",
       "    .dataframe tbody tr th:only-of-type {\n",
       "        vertical-align: middle;\n",
       "    }\n",
       "\n",
       "    .dataframe tbody tr th {\n",
       "        vertical-align: top;\n",
       "    }\n",
       "\n",
       "    .dataframe thead th {\n",
       "        text-align: right;\n",
       "    }\n",
       "</style>\n",
       "<table border=\"1\" class=\"dataframe\">\n",
       "  <thead>\n",
       "    <tr style=\"text-align: right;\">\n",
       "      <th></th>\n",
       "      <th>Region</th>\n",
       "      <th>Accounting</th>\n",
       "      <th>Communications</th>\n",
       "      <th>Entrepreneurship</th>\n",
       "      <th>Finance</th>\n",
       "      <th>Human Resources</th>\n",
       "      <th>Leadership</th>\n",
       "      <th>Marketing</th>\n",
       "      <th>Sales</th>\n",
       "      <th>Strategy &amp;\\nOperations</th>\n",
       "      <th>...</th>\n",
       "      <th>Software Engineering</th>\n",
       "      <th>Theoretical Computer Science</th>\n",
       "      <th>Web Development</th>\n",
       "      <th>Data Analysis</th>\n",
       "      <th>Data Management</th>\n",
       "      <th>Data Visualization</th>\n",
       "      <th>Machine Learning</th>\n",
       "      <th>Mathematics</th>\n",
       "      <th>Probability &amp; Statistics</th>\n",
       "      <th>Statistical Programming</th>\n",
       "    </tr>\n",
       "  </thead>\n",
       "  <tbody>\n",
       "    <tr>\n",
       "      <th>0</th>\n",
       "      <td>United States</td>\n",
       "      <td>0.98</td>\n",
       "      <td>0.07</td>\n",
       "      <td>0.17</td>\n",
       "      <td>0.41</td>\n",
       "      <td>0.60</td>\n",
       "      <td>0.40</td>\n",
       "      <td>0.84</td>\n",
       "      <td>0.91</td>\n",
       "      <td>0.63</td>\n",
       "      <td>...</td>\n",
       "      <td>0.92</td>\n",
       "      <td>0.60</td>\n",
       "      <td>0.98</td>\n",
       "      <td>0.55</td>\n",
       "      <td>0.82</td>\n",
       "      <td>0.81</td>\n",
       "      <td>0.77</td>\n",
       "      <td>0.56</td>\n",
       "      <td>0.79</td>\n",
       "      <td>0.58</td>\n",
       "    </tr>\n",
       "    <tr>\n",
       "      <th>1</th>\n",
       "      <td>United States : West</td>\n",
       "      <td>0.96</td>\n",
       "      <td>0.12</td>\n",
       "      <td>0.12</td>\n",
       "      <td>0.44</td>\n",
       "      <td>0.67</td>\n",
       "      <td>0.38</td>\n",
       "      <td>0.83</td>\n",
       "      <td>0.81</td>\n",
       "      <td>0.64</td>\n",
       "      <td>...</td>\n",
       "      <td>0.98</td>\n",
       "      <td>0.80</td>\n",
       "      <td>1.00</td>\n",
       "      <td>0.54</td>\n",
       "      <td>0.95</td>\n",
       "      <td>0.95</td>\n",
       "      <td>0.93</td>\n",
       "      <td>0.72</td>\n",
       "      <td>0.88</td>\n",
       "      <td>0.78</td>\n",
       "    </tr>\n",
       "    <tr>\n",
       "      <th>2</th>\n",
       "      <td>United States : Midwest</td>\n",
       "      <td>1.00</td>\n",
       "      <td>0.15</td>\n",
       "      <td>0.72</td>\n",
       "      <td>0.57</td>\n",
       "      <td>0.79</td>\n",
       "      <td>0.88</td>\n",
       "      <td>1.00</td>\n",
       "      <td>1.00</td>\n",
       "      <td>0.85</td>\n",
       "      <td>...</td>\n",
       "      <td>0.76</td>\n",
       "      <td>0.48</td>\n",
       "      <td>0.21</td>\n",
       "      <td>0.65</td>\n",
       "      <td>0.77</td>\n",
       "      <td>0.73</td>\n",
       "      <td>0.71</td>\n",
       "      <td>0.47</td>\n",
       "      <td>0.83</td>\n",
       "      <td>0.51</td>\n",
       "    </tr>\n",
       "    <tr>\n",
       "      <th>3</th>\n",
       "      <td>United States : Northeast</td>\n",
       "      <td>0.87</td>\n",
       "      <td>0.02</td>\n",
       "      <td>0.04</td>\n",
       "      <td>0.40</td>\n",
       "      <td>0.34</td>\n",
       "      <td>0.16</td>\n",
       "      <td>0.63</td>\n",
       "      <td>0.62</td>\n",
       "      <td>0.40</td>\n",
       "      <td>...</td>\n",
       "      <td>0.87</td>\n",
       "      <td>0.69</td>\n",
       "      <td>0.38</td>\n",
       "      <td>0.47</td>\n",
       "      <td>0.88</td>\n",
       "      <td>0.70</td>\n",
       "      <td>0.74</td>\n",
       "      <td>0.68</td>\n",
       "      <td>0.76</td>\n",
       "      <td>0.57</td>\n",
       "    </tr>\n",
       "    <tr>\n",
       "      <th>4</th>\n",
       "      <td>United States : South</td>\n",
       "      <td>0.93</td>\n",
       "      <td>0.04</td>\n",
       "      <td>0.10</td>\n",
       "      <td>0.30</td>\n",
       "      <td>0.54</td>\n",
       "      <td>0.31</td>\n",
       "      <td>0.68</td>\n",
       "      <td>0.79</td>\n",
       "      <td>0.51</td>\n",
       "      <td>...</td>\n",
       "      <td>0.83</td>\n",
       "      <td>0.40</td>\n",
       "      <td>0.18</td>\n",
       "      <td>0.53</td>\n",
       "      <td>0.68</td>\n",
       "      <td>0.67</td>\n",
       "      <td>0.58</td>\n",
       "      <td>0.34</td>\n",
       "      <td>0.66</td>\n",
       "      <td>0.46</td>\n",
       "    </tr>\n",
       "    <tr>\n",
       "      <th>5</th>\n",
       "      <td>Canada</td>\n",
       "      <td>0.56</td>\n",
       "      <td>0.29</td>\n",
       "      <td>0.08</td>\n",
       "      <td>0.02</td>\n",
       "      <td>0.51</td>\n",
       "      <td>0.64</td>\n",
       "      <td>0.02</td>\n",
       "      <td>0.38</td>\n",
       "      <td>0.58</td>\n",
       "      <td>...</td>\n",
       "      <td>0.84</td>\n",
       "      <td>0.62</td>\n",
       "      <td>0.52</td>\n",
       "      <td>0.62</td>\n",
       "      <td>0.78</td>\n",
       "      <td>0.93</td>\n",
       "      <td>0.68</td>\n",
       "      <td>0.62</td>\n",
       "      <td>0.57</td>\n",
       "      <td>0.54</td>\n",
       "    </tr>\n",
       "  </tbody>\n",
       "</table>\n",
       "<p>6 rows × 27 columns</p>\n",
       "</div>"
      ],
      "text/plain": [
       "                      Region  Accounting  Communications  Entrepreneurship  \\\n",
       "0              United States        0.98            0.07              0.17   \n",
       "1       United States : West        0.96            0.12              0.12   \n",
       "2    United States : Midwest        1.00            0.15              0.72   \n",
       "3  United States : Northeast        0.87            0.02              0.04   \n",
       "4      United States : South        0.93            0.04              0.10   \n",
       "5                     Canada        0.56            0.29              0.08   \n",
       "\n",
       "   Finance  Human Resources  Leadership  Marketing  Sales  \\\n",
       "0     0.41             0.60        0.40       0.84   0.91   \n",
       "1     0.44             0.67        0.38       0.83   0.81   \n",
       "2     0.57             0.79        0.88       1.00   1.00   \n",
       "3     0.40             0.34        0.16       0.63   0.62   \n",
       "4     0.30             0.54        0.31       0.68   0.79   \n",
       "5     0.02             0.51        0.64       0.02   0.38   \n",
       "\n",
       "   Strategy &\\nOperations  ...  Software Engineering  \\\n",
       "0                    0.63  ...                  0.92   \n",
       "1                    0.64  ...                  0.98   \n",
       "2                    0.85  ...                  0.76   \n",
       "3                    0.40  ...                  0.87   \n",
       "4                    0.51  ...                  0.83   \n",
       "5                    0.58  ...                  0.84   \n",
       "\n",
       "   Theoretical Computer Science  Web Development  Data Analysis  \\\n",
       "0                          0.60             0.98           0.55   \n",
       "1                          0.80             1.00           0.54   \n",
       "2                          0.48             0.21           0.65   \n",
       "3                          0.69             0.38           0.47   \n",
       "4                          0.40             0.18           0.53   \n",
       "5                          0.62             0.52           0.62   \n",
       "\n",
       "   Data Management  Data Visualization  Machine Learning  Mathematics  \\\n",
       "0             0.82                0.81              0.77         0.56   \n",
       "1             0.95                0.95              0.93         0.72   \n",
       "2             0.77                0.73              0.71         0.47   \n",
       "3             0.88                0.70              0.74         0.68   \n",
       "4             0.68                0.67              0.58         0.34   \n",
       "5             0.78                0.93              0.68         0.62   \n",
       "\n",
       "   Probability & Statistics  Statistical Programming  \n",
       "0                      0.79                     0.58  \n",
       "1                      0.88                     0.78  \n",
       "2                      0.83                     0.51  \n",
       "3                      0.76                     0.57  \n",
       "4                      0.66                     0.46  \n",
       "5                      0.57                     0.54  \n",
       "\n",
       "[6 rows x 27 columns]"
      ]
     },
     "execution_count": 6,
     "metadata": {},
     "output_type": "execute_result"
    }
   ],
   "source": [
    "skills"
   ]
  },
  {
   "cell_type": "markdown",
   "id": "0472f2c2",
   "metadata": {
    "slideshow": {
     "slide_type": "slide"
    }
   },
   "source": [
    "### Convert to dataframe"
   ]
  },
  {
   "cell_type": "code",
   "execution_count": 7,
   "id": "ebd8a4db",
   "metadata": {
    "slideshow": {
     "slide_type": "slide"
    }
   },
   "outputs": [],
   "source": [
    "final = pan.DataFrame(skills)"
   ]
  },
  {
   "cell_type": "code",
   "execution_count": 8,
   "id": "77d7677a",
   "metadata": {
    "slideshow": {
     "slide_type": "slide"
    }
   },
   "outputs": [
    {
     "data": {
      "text/html": [
       "<div>\n",
       "<style scoped>\n",
       "    .dataframe tbody tr th:only-of-type {\n",
       "        vertical-align: middle;\n",
       "    }\n",
       "\n",
       "    .dataframe tbody tr th {\n",
       "        vertical-align: top;\n",
       "    }\n",
       "\n",
       "    .dataframe thead th {\n",
       "        text-align: right;\n",
       "    }\n",
       "</style>\n",
       "<table border=\"1\" class=\"dataframe\">\n",
       "  <thead>\n",
       "    <tr style=\"text-align: right;\">\n",
       "      <th></th>\n",
       "      <th>Region</th>\n",
       "      <th>Accounting</th>\n",
       "      <th>Communications</th>\n",
       "      <th>Entrepreneurship</th>\n",
       "      <th>Finance</th>\n",
       "      <th>Human Resources</th>\n",
       "      <th>Leadership</th>\n",
       "      <th>Marketing</th>\n",
       "      <th>Sales</th>\n",
       "      <th>Strategy &amp;\\nOperations</th>\n",
       "      <th>...</th>\n",
       "      <th>Software Engineering</th>\n",
       "      <th>Theoretical Computer Science</th>\n",
       "      <th>Web Development</th>\n",
       "      <th>Data Analysis</th>\n",
       "      <th>Data Management</th>\n",
       "      <th>Data Visualization</th>\n",
       "      <th>Machine Learning</th>\n",
       "      <th>Mathematics</th>\n",
       "      <th>Probability &amp; Statistics</th>\n",
       "      <th>Statistical Programming</th>\n",
       "    </tr>\n",
       "  </thead>\n",
       "  <tbody>\n",
       "    <tr>\n",
       "      <th>0</th>\n",
       "      <td>United States</td>\n",
       "      <td>0.98</td>\n",
       "      <td>0.07</td>\n",
       "      <td>0.17</td>\n",
       "      <td>0.41</td>\n",
       "      <td>0.60</td>\n",
       "      <td>0.40</td>\n",
       "      <td>0.84</td>\n",
       "      <td>0.91</td>\n",
       "      <td>0.63</td>\n",
       "      <td>...</td>\n",
       "      <td>0.92</td>\n",
       "      <td>0.60</td>\n",
       "      <td>0.98</td>\n",
       "      <td>0.55</td>\n",
       "      <td>0.82</td>\n",
       "      <td>0.81</td>\n",
       "      <td>0.77</td>\n",
       "      <td>0.56</td>\n",
       "      <td>0.79</td>\n",
       "      <td>0.58</td>\n",
       "    </tr>\n",
       "    <tr>\n",
       "      <th>1</th>\n",
       "      <td>United States : West</td>\n",
       "      <td>0.96</td>\n",
       "      <td>0.12</td>\n",
       "      <td>0.12</td>\n",
       "      <td>0.44</td>\n",
       "      <td>0.67</td>\n",
       "      <td>0.38</td>\n",
       "      <td>0.83</td>\n",
       "      <td>0.81</td>\n",
       "      <td>0.64</td>\n",
       "      <td>...</td>\n",
       "      <td>0.98</td>\n",
       "      <td>0.80</td>\n",
       "      <td>1.00</td>\n",
       "      <td>0.54</td>\n",
       "      <td>0.95</td>\n",
       "      <td>0.95</td>\n",
       "      <td>0.93</td>\n",
       "      <td>0.72</td>\n",
       "      <td>0.88</td>\n",
       "      <td>0.78</td>\n",
       "    </tr>\n",
       "    <tr>\n",
       "      <th>2</th>\n",
       "      <td>United States : Midwest</td>\n",
       "      <td>1.00</td>\n",
       "      <td>0.15</td>\n",
       "      <td>0.72</td>\n",
       "      <td>0.57</td>\n",
       "      <td>0.79</td>\n",
       "      <td>0.88</td>\n",
       "      <td>1.00</td>\n",
       "      <td>1.00</td>\n",
       "      <td>0.85</td>\n",
       "      <td>...</td>\n",
       "      <td>0.76</td>\n",
       "      <td>0.48</td>\n",
       "      <td>0.21</td>\n",
       "      <td>0.65</td>\n",
       "      <td>0.77</td>\n",
       "      <td>0.73</td>\n",
       "      <td>0.71</td>\n",
       "      <td>0.47</td>\n",
       "      <td>0.83</td>\n",
       "      <td>0.51</td>\n",
       "    </tr>\n",
       "    <tr>\n",
       "      <th>3</th>\n",
       "      <td>United States : Northeast</td>\n",
       "      <td>0.87</td>\n",
       "      <td>0.02</td>\n",
       "      <td>0.04</td>\n",
       "      <td>0.40</td>\n",
       "      <td>0.34</td>\n",
       "      <td>0.16</td>\n",
       "      <td>0.63</td>\n",
       "      <td>0.62</td>\n",
       "      <td>0.40</td>\n",
       "      <td>...</td>\n",
       "      <td>0.87</td>\n",
       "      <td>0.69</td>\n",
       "      <td>0.38</td>\n",
       "      <td>0.47</td>\n",
       "      <td>0.88</td>\n",
       "      <td>0.70</td>\n",
       "      <td>0.74</td>\n",
       "      <td>0.68</td>\n",
       "      <td>0.76</td>\n",
       "      <td>0.57</td>\n",
       "    </tr>\n",
       "    <tr>\n",
       "      <th>4</th>\n",
       "      <td>United States : South</td>\n",
       "      <td>0.93</td>\n",
       "      <td>0.04</td>\n",
       "      <td>0.10</td>\n",
       "      <td>0.30</td>\n",
       "      <td>0.54</td>\n",
       "      <td>0.31</td>\n",
       "      <td>0.68</td>\n",
       "      <td>0.79</td>\n",
       "      <td>0.51</td>\n",
       "      <td>...</td>\n",
       "      <td>0.83</td>\n",
       "      <td>0.40</td>\n",
       "      <td>0.18</td>\n",
       "      <td>0.53</td>\n",
       "      <td>0.68</td>\n",
       "      <td>0.67</td>\n",
       "      <td>0.58</td>\n",
       "      <td>0.34</td>\n",
       "      <td>0.66</td>\n",
       "      <td>0.46</td>\n",
       "    </tr>\n",
       "    <tr>\n",
       "      <th>5</th>\n",
       "      <td>Canada</td>\n",
       "      <td>0.56</td>\n",
       "      <td>0.29</td>\n",
       "      <td>0.08</td>\n",
       "      <td>0.02</td>\n",
       "      <td>0.51</td>\n",
       "      <td>0.64</td>\n",
       "      <td>0.02</td>\n",
       "      <td>0.38</td>\n",
       "      <td>0.58</td>\n",
       "      <td>...</td>\n",
       "      <td>0.84</td>\n",
       "      <td>0.62</td>\n",
       "      <td>0.52</td>\n",
       "      <td>0.62</td>\n",
       "      <td>0.78</td>\n",
       "      <td>0.93</td>\n",
       "      <td>0.68</td>\n",
       "      <td>0.62</td>\n",
       "      <td>0.57</td>\n",
       "      <td>0.54</td>\n",
       "    </tr>\n",
       "  </tbody>\n",
       "</table>\n",
       "<p>6 rows × 27 columns</p>\n",
       "</div>"
      ],
      "text/plain": [
       "                      Region  Accounting  Communications  Entrepreneurship  \\\n",
       "0              United States        0.98            0.07              0.17   \n",
       "1       United States : West        0.96            0.12              0.12   \n",
       "2    United States : Midwest        1.00            0.15              0.72   \n",
       "3  United States : Northeast        0.87            0.02              0.04   \n",
       "4      United States : South        0.93            0.04              0.10   \n",
       "5                     Canada        0.56            0.29              0.08   \n",
       "\n",
       "   Finance  Human Resources  Leadership  Marketing  Sales  \\\n",
       "0     0.41             0.60        0.40       0.84   0.91   \n",
       "1     0.44             0.67        0.38       0.83   0.81   \n",
       "2     0.57             0.79        0.88       1.00   1.00   \n",
       "3     0.40             0.34        0.16       0.63   0.62   \n",
       "4     0.30             0.54        0.31       0.68   0.79   \n",
       "5     0.02             0.51        0.64       0.02   0.38   \n",
       "\n",
       "   Strategy &\\nOperations  ...  Software Engineering  \\\n",
       "0                    0.63  ...                  0.92   \n",
       "1                    0.64  ...                  0.98   \n",
       "2                    0.85  ...                  0.76   \n",
       "3                    0.40  ...                  0.87   \n",
       "4                    0.51  ...                  0.83   \n",
       "5                    0.58  ...                  0.84   \n",
       "\n",
       "   Theoretical Computer Science  Web Development  Data Analysis  \\\n",
       "0                          0.60             0.98           0.55   \n",
       "1                          0.80             1.00           0.54   \n",
       "2                          0.48             0.21           0.65   \n",
       "3                          0.69             0.38           0.47   \n",
       "4                          0.40             0.18           0.53   \n",
       "5                          0.62             0.52           0.62   \n",
       "\n",
       "   Data Management  Data Visualization  Machine Learning  Mathematics  \\\n",
       "0             0.82                0.81              0.77         0.56   \n",
       "1             0.95                0.95              0.93         0.72   \n",
       "2             0.77                0.73              0.71         0.47   \n",
       "3             0.88                0.70              0.74         0.68   \n",
       "4             0.68                0.67              0.58         0.34   \n",
       "5             0.78                0.93              0.68         0.62   \n",
       "\n",
       "   Probability & Statistics  Statistical Programming  \n",
       "0                      0.79                     0.58  \n",
       "1                      0.88                     0.78  \n",
       "2                      0.83                     0.51  \n",
       "3                      0.76                     0.57  \n",
       "4                      0.66                     0.46  \n",
       "5                      0.57                     0.54  \n",
       "\n",
       "[6 rows x 27 columns]"
      ]
     },
     "execution_count": 8,
     "metadata": {},
     "output_type": "execute_result"
    }
   ],
   "source": [
    "final"
   ]
  },
  {
   "cell_type": "markdown",
   "id": "553c8692",
   "metadata": {
    "slideshow": {
     "slide_type": "slide"
    }
   },
   "source": [
    "### Since we don't need 'Canada', we will drop it."
   ]
  },
  {
   "cell_type": "code",
   "execution_count": 10,
   "id": "079f6f2c",
   "metadata": {
    "slideshow": {
     "slide_type": "slide"
    }
   },
   "outputs": [],
   "source": [
    "final.drop(5,axis=0,inplace=True)"
   ]
  },
  {
   "cell_type": "code",
   "execution_count": 11,
   "id": "28fbf404",
   "metadata": {
    "slideshow": {
     "slide_type": "slide"
    }
   },
   "outputs": [
    {
     "data": {
      "text/html": [
       "<div>\n",
       "<style scoped>\n",
       "    .dataframe tbody tr th:only-of-type {\n",
       "        vertical-align: middle;\n",
       "    }\n",
       "\n",
       "    .dataframe tbody tr th {\n",
       "        vertical-align: top;\n",
       "    }\n",
       "\n",
       "    .dataframe thead th {\n",
       "        text-align: right;\n",
       "    }\n",
       "</style>\n",
       "<table border=\"1\" class=\"dataframe\">\n",
       "  <thead>\n",
       "    <tr style=\"text-align: right;\">\n",
       "      <th></th>\n",
       "      <th>Region</th>\n",
       "      <th>Accounting</th>\n",
       "      <th>Communications</th>\n",
       "      <th>Entrepreneurship</th>\n",
       "      <th>Finance</th>\n",
       "      <th>Human Resources</th>\n",
       "      <th>Leadership</th>\n",
       "      <th>Marketing</th>\n",
       "      <th>Sales</th>\n",
       "      <th>Strategy &amp;\\nOperations</th>\n",
       "      <th>...</th>\n",
       "      <th>Software Engineering</th>\n",
       "      <th>Theoretical Computer Science</th>\n",
       "      <th>Web Development</th>\n",
       "      <th>Data Analysis</th>\n",
       "      <th>Data Management</th>\n",
       "      <th>Data Visualization</th>\n",
       "      <th>Machine Learning</th>\n",
       "      <th>Mathematics</th>\n",
       "      <th>Probability &amp; Statistics</th>\n",
       "      <th>Statistical Programming</th>\n",
       "    </tr>\n",
       "  </thead>\n",
       "  <tbody>\n",
       "    <tr>\n",
       "      <th>0</th>\n",
       "      <td>United States</td>\n",
       "      <td>0.98</td>\n",
       "      <td>0.07</td>\n",
       "      <td>0.17</td>\n",
       "      <td>0.41</td>\n",
       "      <td>0.60</td>\n",
       "      <td>0.40</td>\n",
       "      <td>0.84</td>\n",
       "      <td>0.91</td>\n",
       "      <td>0.63</td>\n",
       "      <td>...</td>\n",
       "      <td>0.92</td>\n",
       "      <td>0.60</td>\n",
       "      <td>0.98</td>\n",
       "      <td>0.55</td>\n",
       "      <td>0.82</td>\n",
       "      <td>0.81</td>\n",
       "      <td>0.77</td>\n",
       "      <td>0.56</td>\n",
       "      <td>0.79</td>\n",
       "      <td>0.58</td>\n",
       "    </tr>\n",
       "    <tr>\n",
       "      <th>1</th>\n",
       "      <td>United States : West</td>\n",
       "      <td>0.96</td>\n",
       "      <td>0.12</td>\n",
       "      <td>0.12</td>\n",
       "      <td>0.44</td>\n",
       "      <td>0.67</td>\n",
       "      <td>0.38</td>\n",
       "      <td>0.83</td>\n",
       "      <td>0.81</td>\n",
       "      <td>0.64</td>\n",
       "      <td>...</td>\n",
       "      <td>0.98</td>\n",
       "      <td>0.80</td>\n",
       "      <td>1.00</td>\n",
       "      <td>0.54</td>\n",
       "      <td>0.95</td>\n",
       "      <td>0.95</td>\n",
       "      <td>0.93</td>\n",
       "      <td>0.72</td>\n",
       "      <td>0.88</td>\n",
       "      <td>0.78</td>\n",
       "    </tr>\n",
       "    <tr>\n",
       "      <th>2</th>\n",
       "      <td>United States : Midwest</td>\n",
       "      <td>1.00</td>\n",
       "      <td>0.15</td>\n",
       "      <td>0.72</td>\n",
       "      <td>0.57</td>\n",
       "      <td>0.79</td>\n",
       "      <td>0.88</td>\n",
       "      <td>1.00</td>\n",
       "      <td>1.00</td>\n",
       "      <td>0.85</td>\n",
       "      <td>...</td>\n",
       "      <td>0.76</td>\n",
       "      <td>0.48</td>\n",
       "      <td>0.21</td>\n",
       "      <td>0.65</td>\n",
       "      <td>0.77</td>\n",
       "      <td>0.73</td>\n",
       "      <td>0.71</td>\n",
       "      <td>0.47</td>\n",
       "      <td>0.83</td>\n",
       "      <td>0.51</td>\n",
       "    </tr>\n",
       "    <tr>\n",
       "      <th>3</th>\n",
       "      <td>United States : Northeast</td>\n",
       "      <td>0.87</td>\n",
       "      <td>0.02</td>\n",
       "      <td>0.04</td>\n",
       "      <td>0.40</td>\n",
       "      <td>0.34</td>\n",
       "      <td>0.16</td>\n",
       "      <td>0.63</td>\n",
       "      <td>0.62</td>\n",
       "      <td>0.40</td>\n",
       "      <td>...</td>\n",
       "      <td>0.87</td>\n",
       "      <td>0.69</td>\n",
       "      <td>0.38</td>\n",
       "      <td>0.47</td>\n",
       "      <td>0.88</td>\n",
       "      <td>0.70</td>\n",
       "      <td>0.74</td>\n",
       "      <td>0.68</td>\n",
       "      <td>0.76</td>\n",
       "      <td>0.57</td>\n",
       "    </tr>\n",
       "    <tr>\n",
       "      <th>4</th>\n",
       "      <td>United States : South</td>\n",
       "      <td>0.93</td>\n",
       "      <td>0.04</td>\n",
       "      <td>0.10</td>\n",
       "      <td>0.30</td>\n",
       "      <td>0.54</td>\n",
       "      <td>0.31</td>\n",
       "      <td>0.68</td>\n",
       "      <td>0.79</td>\n",
       "      <td>0.51</td>\n",
       "      <td>...</td>\n",
       "      <td>0.83</td>\n",
       "      <td>0.40</td>\n",
       "      <td>0.18</td>\n",
       "      <td>0.53</td>\n",
       "      <td>0.68</td>\n",
       "      <td>0.67</td>\n",
       "      <td>0.58</td>\n",
       "      <td>0.34</td>\n",
       "      <td>0.66</td>\n",
       "      <td>0.46</td>\n",
       "    </tr>\n",
       "  </tbody>\n",
       "</table>\n",
       "<p>5 rows × 27 columns</p>\n",
       "</div>"
      ],
      "text/plain": [
       "                      Region  Accounting  Communications  Entrepreneurship  \\\n",
       "0              United States        0.98            0.07              0.17   \n",
       "1       United States : West        0.96            0.12              0.12   \n",
       "2    United States : Midwest        1.00            0.15              0.72   \n",
       "3  United States : Northeast        0.87            0.02              0.04   \n",
       "4      United States : South        0.93            0.04              0.10   \n",
       "\n",
       "   Finance  Human Resources  Leadership  Marketing  Sales  \\\n",
       "0     0.41             0.60        0.40       0.84   0.91   \n",
       "1     0.44             0.67        0.38       0.83   0.81   \n",
       "2     0.57             0.79        0.88       1.00   1.00   \n",
       "3     0.40             0.34        0.16       0.63   0.62   \n",
       "4     0.30             0.54        0.31       0.68   0.79   \n",
       "\n",
       "   Strategy &\\nOperations  ...  Software Engineering  \\\n",
       "0                    0.63  ...                  0.92   \n",
       "1                    0.64  ...                  0.98   \n",
       "2                    0.85  ...                  0.76   \n",
       "3                    0.40  ...                  0.87   \n",
       "4                    0.51  ...                  0.83   \n",
       "\n",
       "   Theoretical Computer Science  Web Development  Data Analysis  \\\n",
       "0                          0.60             0.98           0.55   \n",
       "1                          0.80             1.00           0.54   \n",
       "2                          0.48             0.21           0.65   \n",
       "3                          0.69             0.38           0.47   \n",
       "4                          0.40             0.18           0.53   \n",
       "\n",
       "   Data Management  Data Visualization  Machine Learning  Mathematics  \\\n",
       "0             0.82                0.81              0.77         0.56   \n",
       "1             0.95                0.95              0.93         0.72   \n",
       "2             0.77                0.73              0.71         0.47   \n",
       "3             0.88                0.70              0.74         0.68   \n",
       "4             0.68                0.67              0.58         0.34   \n",
       "\n",
       "   Probability & Statistics  Statistical Programming  \n",
       "0                      0.79                     0.58  \n",
       "1                      0.88                     0.78  \n",
       "2                      0.83                     0.51  \n",
       "3                      0.76                     0.57  \n",
       "4                      0.66                     0.46  \n",
       "\n",
       "[5 rows x 27 columns]"
      ]
     },
     "execution_count": 11,
     "metadata": {},
     "output_type": "execute_result"
    }
   ],
   "source": [
    "final"
   ]
  },
  {
   "cell_type": "markdown",
   "id": "99bb9ba6",
   "metadata": {
    "slideshow": {
     "slide_type": "slide"
    }
   },
   "source": [
    "### To stay on the technical track only, we will also drop other columns, that are not primarily technology skills."
   ]
  },
  {
   "cell_type": "code",
   "execution_count": 16,
   "id": "c6b3830c",
   "metadata": {
    "scrolled": true,
    "slideshow": {
     "slide_type": "slide"
    }
   },
   "outputs": [
    {
     "ename": "KeyError",
     "evalue": "\"['Accounting' 'Communications' 'Entrepreneurship' 'Finance'\\n 'Human Resources' 'Leadership' 'Marketing' 'Sales'] not found in axis\"",
     "output_type": "error",
     "traceback": [
      "\u001b[1;31m---------------------------------------------------------------------------\u001b[0m",
      "\u001b[1;31mKeyError\u001b[0m                                  Traceback (most recent call last)",
      "\u001b[1;32m<ipython-input-16-57ba8dd9ffda>\u001b[0m in \u001b[0;36m<module>\u001b[1;34m\u001b[0m\n\u001b[1;32m----> 1\u001b[1;33m \u001b[0mfinal\u001b[0m\u001b[1;33m.\u001b[0m\u001b[0mdrop\u001b[0m\u001b[1;33m(\u001b[0m\u001b[1;33m[\u001b[0m\u001b[1;34m\"Accounting\"\u001b[0m\u001b[1;33m,\u001b[0m\u001b[1;34m\"Communications\"\u001b[0m\u001b[1;33m,\u001b[0m\u001b[1;34m\"Entrepreneurship\"\u001b[0m\u001b[1;33m,\u001b[0m\u001b[1;34m\"Finance\"\u001b[0m\u001b[1;33m,\u001b[0m\u001b[1;34m\"Human Resources\"\u001b[0m\u001b[1;33m,\u001b[0m\u001b[1;34m\"Leadership\"\u001b[0m\u001b[1;33m,\u001b[0m\u001b[1;34m\"Marketing\"\u001b[0m\u001b[1;33m,\u001b[0m\u001b[1;34m\"Sales\"\u001b[0m\u001b[1;33m,\u001b[0m\u001b[1;33m]\u001b[0m\u001b[1;33m,\u001b[0m\u001b[0maxis\u001b[0m\u001b[1;33m=\u001b[0m\u001b[1;36m1\u001b[0m\u001b[1;33m,\u001b[0m\u001b[0minplace\u001b[0m\u001b[1;33m=\u001b[0m\u001b[1;32mTrue\u001b[0m\u001b[1;33m)\u001b[0m\u001b[1;33m\u001b[0m\u001b[1;33m\u001b[0m\u001b[0m\n\u001b[0m",
      "\u001b[1;32m~\\anaconda3\\lib\\site-packages\\pandas\\core\\frame.py\u001b[0m in \u001b[0;36mdrop\u001b[1;34m(self, labels, axis, index, columns, level, inplace, errors)\u001b[0m\n\u001b[0;32m   4306\u001b[0m                 \u001b[0mweight\u001b[0m  \u001b[1;36m1.0\u001b[0m     \u001b[1;36m0.8\u001b[0m\u001b[1;33m\u001b[0m\u001b[1;33m\u001b[0m\u001b[0m\n\u001b[0;32m   4307\u001b[0m         \"\"\"\n\u001b[1;32m-> 4308\u001b[1;33m         return super().drop(\n\u001b[0m\u001b[0;32m   4309\u001b[0m             \u001b[0mlabels\u001b[0m\u001b[1;33m=\u001b[0m\u001b[0mlabels\u001b[0m\u001b[1;33m,\u001b[0m\u001b[1;33m\u001b[0m\u001b[1;33m\u001b[0m\u001b[0m\n\u001b[0;32m   4310\u001b[0m             \u001b[0maxis\u001b[0m\u001b[1;33m=\u001b[0m\u001b[0maxis\u001b[0m\u001b[1;33m,\u001b[0m\u001b[1;33m\u001b[0m\u001b[1;33m\u001b[0m\u001b[0m\n",
      "\u001b[1;32m~\\anaconda3\\lib\\site-packages\\pandas\\core\\generic.py\u001b[0m in \u001b[0;36mdrop\u001b[1;34m(self, labels, axis, index, columns, level, inplace, errors)\u001b[0m\n\u001b[0;32m   4151\u001b[0m         \u001b[1;32mfor\u001b[0m \u001b[0maxis\u001b[0m\u001b[1;33m,\u001b[0m \u001b[0mlabels\u001b[0m \u001b[1;32min\u001b[0m \u001b[0maxes\u001b[0m\u001b[1;33m.\u001b[0m\u001b[0mitems\u001b[0m\u001b[1;33m(\u001b[0m\u001b[1;33m)\u001b[0m\u001b[1;33m:\u001b[0m\u001b[1;33m\u001b[0m\u001b[1;33m\u001b[0m\u001b[0m\n\u001b[0;32m   4152\u001b[0m             \u001b[1;32mif\u001b[0m \u001b[0mlabels\u001b[0m \u001b[1;32mis\u001b[0m \u001b[1;32mnot\u001b[0m \u001b[1;32mNone\u001b[0m\u001b[1;33m:\u001b[0m\u001b[1;33m\u001b[0m\u001b[1;33m\u001b[0m\u001b[0m\n\u001b[1;32m-> 4153\u001b[1;33m                 \u001b[0mobj\u001b[0m \u001b[1;33m=\u001b[0m \u001b[0mobj\u001b[0m\u001b[1;33m.\u001b[0m\u001b[0m_drop_axis\u001b[0m\u001b[1;33m(\u001b[0m\u001b[0mlabels\u001b[0m\u001b[1;33m,\u001b[0m \u001b[0maxis\u001b[0m\u001b[1;33m,\u001b[0m \u001b[0mlevel\u001b[0m\u001b[1;33m=\u001b[0m\u001b[0mlevel\u001b[0m\u001b[1;33m,\u001b[0m \u001b[0merrors\u001b[0m\u001b[1;33m=\u001b[0m\u001b[0merrors\u001b[0m\u001b[1;33m)\u001b[0m\u001b[1;33m\u001b[0m\u001b[1;33m\u001b[0m\u001b[0m\n\u001b[0m\u001b[0;32m   4154\u001b[0m \u001b[1;33m\u001b[0m\u001b[0m\n\u001b[0;32m   4155\u001b[0m         \u001b[1;32mif\u001b[0m \u001b[0minplace\u001b[0m\u001b[1;33m:\u001b[0m\u001b[1;33m\u001b[0m\u001b[1;33m\u001b[0m\u001b[0m\n",
      "\u001b[1;32m~\\anaconda3\\lib\\site-packages\\pandas\\core\\generic.py\u001b[0m in \u001b[0;36m_drop_axis\u001b[1;34m(self, labels, axis, level, errors)\u001b[0m\n\u001b[0;32m   4186\u001b[0m                 \u001b[0mnew_axis\u001b[0m \u001b[1;33m=\u001b[0m \u001b[0maxis\u001b[0m\u001b[1;33m.\u001b[0m\u001b[0mdrop\u001b[0m\u001b[1;33m(\u001b[0m\u001b[0mlabels\u001b[0m\u001b[1;33m,\u001b[0m \u001b[0mlevel\u001b[0m\u001b[1;33m=\u001b[0m\u001b[0mlevel\u001b[0m\u001b[1;33m,\u001b[0m \u001b[0merrors\u001b[0m\u001b[1;33m=\u001b[0m\u001b[0merrors\u001b[0m\u001b[1;33m)\u001b[0m\u001b[1;33m\u001b[0m\u001b[1;33m\u001b[0m\u001b[0m\n\u001b[0;32m   4187\u001b[0m             \u001b[1;32melse\u001b[0m\u001b[1;33m:\u001b[0m\u001b[1;33m\u001b[0m\u001b[1;33m\u001b[0m\u001b[0m\n\u001b[1;32m-> 4188\u001b[1;33m                 \u001b[0mnew_axis\u001b[0m \u001b[1;33m=\u001b[0m \u001b[0maxis\u001b[0m\u001b[1;33m.\u001b[0m\u001b[0mdrop\u001b[0m\u001b[1;33m(\u001b[0m\u001b[0mlabels\u001b[0m\u001b[1;33m,\u001b[0m \u001b[0merrors\u001b[0m\u001b[1;33m=\u001b[0m\u001b[0merrors\u001b[0m\u001b[1;33m)\u001b[0m\u001b[1;33m\u001b[0m\u001b[1;33m\u001b[0m\u001b[0m\n\u001b[0m\u001b[0;32m   4189\u001b[0m             \u001b[0mresult\u001b[0m \u001b[1;33m=\u001b[0m \u001b[0mself\u001b[0m\u001b[1;33m.\u001b[0m\u001b[0mreindex\u001b[0m\u001b[1;33m(\u001b[0m\u001b[1;33m**\u001b[0m\u001b[1;33m{\u001b[0m\u001b[0maxis_name\u001b[0m\u001b[1;33m:\u001b[0m \u001b[0mnew_axis\u001b[0m\u001b[1;33m}\u001b[0m\u001b[1;33m)\u001b[0m\u001b[1;33m\u001b[0m\u001b[1;33m\u001b[0m\u001b[0m\n\u001b[0;32m   4190\u001b[0m \u001b[1;33m\u001b[0m\u001b[0m\n",
      "\u001b[1;32m~\\anaconda3\\lib\\site-packages\\pandas\\core\\indexes\\base.py\u001b[0m in \u001b[0;36mdrop\u001b[1;34m(self, labels, errors)\u001b[0m\n\u001b[0;32m   5589\u001b[0m         \u001b[1;32mif\u001b[0m \u001b[0mmask\u001b[0m\u001b[1;33m.\u001b[0m\u001b[0many\u001b[0m\u001b[1;33m(\u001b[0m\u001b[1;33m)\u001b[0m\u001b[1;33m:\u001b[0m\u001b[1;33m\u001b[0m\u001b[1;33m\u001b[0m\u001b[0m\n\u001b[0;32m   5590\u001b[0m             \u001b[1;32mif\u001b[0m \u001b[0merrors\u001b[0m \u001b[1;33m!=\u001b[0m \u001b[1;34m\"ignore\"\u001b[0m\u001b[1;33m:\u001b[0m\u001b[1;33m\u001b[0m\u001b[1;33m\u001b[0m\u001b[0m\n\u001b[1;32m-> 5591\u001b[1;33m                 \u001b[1;32mraise\u001b[0m \u001b[0mKeyError\u001b[0m\u001b[1;33m(\u001b[0m\u001b[1;34mf\"{labels[mask]} not found in axis\"\u001b[0m\u001b[1;33m)\u001b[0m\u001b[1;33m\u001b[0m\u001b[1;33m\u001b[0m\u001b[0m\n\u001b[0m\u001b[0;32m   5592\u001b[0m             \u001b[0mindexer\u001b[0m \u001b[1;33m=\u001b[0m \u001b[0mindexer\u001b[0m\u001b[1;33m[\u001b[0m\u001b[1;33m~\u001b[0m\u001b[0mmask\u001b[0m\u001b[1;33m]\u001b[0m\u001b[1;33m\u001b[0m\u001b[1;33m\u001b[0m\u001b[0m\n\u001b[0;32m   5593\u001b[0m         \u001b[1;32mreturn\u001b[0m \u001b[0mself\u001b[0m\u001b[1;33m.\u001b[0m\u001b[0mdelete\u001b[0m\u001b[1;33m(\u001b[0m\u001b[0mindexer\u001b[0m\u001b[1;33m)\u001b[0m\u001b[1;33m\u001b[0m\u001b[1;33m\u001b[0m\u001b[0m\n",
      "\u001b[1;31mKeyError\u001b[0m: \"['Accounting' 'Communications' 'Entrepreneurship' 'Finance'\\n 'Human Resources' 'Leadership' 'Marketing' 'Sales'] not found in axis\""
     ]
    }
   ],
   "source": [
    "final.drop([\"Accounting\",\"Communications\",\"Entrepreneurship\",\"Finance\",\"Human Resources\",\"Leadership\",\"Marketing\",\"Sales\",],axis=1,inplace=True)"
   ]
  },
  {
   "cell_type": "code",
   "execution_count": 17,
   "id": "966bef99",
   "metadata": {
    "scrolled": false,
    "slideshow": {
     "slide_type": "slide"
    }
   },
   "outputs": [
    {
     "data": {
      "text/html": [
       "<div>\n",
       "<style scoped>\n",
       "    .dataframe tbody tr th:only-of-type {\n",
       "        vertical-align: middle;\n",
       "    }\n",
       "\n",
       "    .dataframe tbody tr th {\n",
       "        vertical-align: top;\n",
       "    }\n",
       "\n",
       "    .dataframe thead th {\n",
       "        text-align: right;\n",
       "    }\n",
       "</style>\n",
       "<table border=\"1\" class=\"dataframe\">\n",
       "  <thead>\n",
       "    <tr style=\"text-align: right;\">\n",
       "      <th></th>\n",
       "      <th>Region</th>\n",
       "      <th>Strategy &amp;\\nOperations</th>\n",
       "      <th>Cloud Computing</th>\n",
       "      <th>Computer Networking</th>\n",
       "      <th>Computer Programming</th>\n",
       "      <th>Databases</th>\n",
       "      <th>Mobile Development</th>\n",
       "      <th>Operating Systems</th>\n",
       "      <th>Security Engineering</th>\n",
       "      <th>Software Engineering</th>\n",
       "      <th>Theoretical Computer Science</th>\n",
       "      <th>Web Development</th>\n",
       "      <th>Data Analysis</th>\n",
       "      <th>Data Management</th>\n",
       "      <th>Data Visualization</th>\n",
       "      <th>Machine Learning</th>\n",
       "      <th>Mathematics</th>\n",
       "      <th>Probability &amp; Statistics</th>\n",
       "      <th>Statistical Programming</th>\n",
       "    </tr>\n",
       "  </thead>\n",
       "  <tbody>\n",
       "    <tr>\n",
       "      <th>0</th>\n",
       "      <td>United States</td>\n",
       "      <td>0.63</td>\n",
       "      <td>0.37</td>\n",
       "      <td>0.70</td>\n",
       "      <td>0.75</td>\n",
       "      <td>0.63</td>\n",
       "      <td>0.62</td>\n",
       "      <td>0.12</td>\n",
       "      <td>0.55</td>\n",
       "      <td>0.92</td>\n",
       "      <td>0.60</td>\n",
       "      <td>0.98</td>\n",
       "      <td>0.55</td>\n",
       "      <td>0.82</td>\n",
       "      <td>0.81</td>\n",
       "      <td>0.77</td>\n",
       "      <td>0.56</td>\n",
       "      <td>0.79</td>\n",
       "      <td>0.58</td>\n",
       "    </tr>\n",
       "    <tr>\n",
       "      <th>1</th>\n",
       "      <td>United States : West</td>\n",
       "      <td>0.64</td>\n",
       "      <td>0.45</td>\n",
       "      <td>0.67</td>\n",
       "      <td>0.91</td>\n",
       "      <td>0.83</td>\n",
       "      <td>0.74</td>\n",
       "      <td>0.07</td>\n",
       "      <td>0.52</td>\n",
       "      <td>0.98</td>\n",
       "      <td>0.80</td>\n",
       "      <td>1.00</td>\n",
       "      <td>0.54</td>\n",
       "      <td>0.95</td>\n",
       "      <td>0.95</td>\n",
       "      <td>0.93</td>\n",
       "      <td>0.72</td>\n",
       "      <td>0.88</td>\n",
       "      <td>0.78</td>\n",
       "    </tr>\n",
       "    <tr>\n",
       "      <th>2</th>\n",
       "      <td>United States : Midwest</td>\n",
       "      <td>0.85</td>\n",
       "      <td>0.41</td>\n",
       "      <td>0.77</td>\n",
       "      <td>0.58</td>\n",
       "      <td>0.23</td>\n",
       "      <td>0.43</td>\n",
       "      <td>0.09</td>\n",
       "      <td>0.51</td>\n",
       "      <td>0.76</td>\n",
       "      <td>0.48</td>\n",
       "      <td>0.21</td>\n",
       "      <td>0.65</td>\n",
       "      <td>0.77</td>\n",
       "      <td>0.73</td>\n",
       "      <td>0.71</td>\n",
       "      <td>0.47</td>\n",
       "      <td>0.83</td>\n",
       "      <td>0.51</td>\n",
       "    </tr>\n",
       "    <tr>\n",
       "      <th>3</th>\n",
       "      <td>United States : Northeast</td>\n",
       "      <td>0.40</td>\n",
       "      <td>0.35</td>\n",
       "      <td>0.66</td>\n",
       "      <td>0.74</td>\n",
       "      <td>0.94</td>\n",
       "      <td>0.63</td>\n",
       "      <td>0.13</td>\n",
       "      <td>0.58</td>\n",
       "      <td>0.87</td>\n",
       "      <td>0.69</td>\n",
       "      <td>0.38</td>\n",
       "      <td>0.47</td>\n",
       "      <td>0.88</td>\n",
       "      <td>0.70</td>\n",
       "      <td>0.74</td>\n",
       "      <td>0.68</td>\n",
       "      <td>0.76</td>\n",
       "      <td>0.57</td>\n",
       "    </tr>\n",
       "    <tr>\n",
       "      <th>4</th>\n",
       "      <td>United States : South</td>\n",
       "      <td>0.51</td>\n",
       "      <td>0.30</td>\n",
       "      <td>0.73</td>\n",
       "      <td>0.54</td>\n",
       "      <td>0.29</td>\n",
       "      <td>0.51</td>\n",
       "      <td>0.11</td>\n",
       "      <td>0.62</td>\n",
       "      <td>0.83</td>\n",
       "      <td>0.40</td>\n",
       "      <td>0.18</td>\n",
       "      <td>0.53</td>\n",
       "      <td>0.68</td>\n",
       "      <td>0.67</td>\n",
       "      <td>0.58</td>\n",
       "      <td>0.34</td>\n",
       "      <td>0.66</td>\n",
       "      <td>0.46</td>\n",
       "    </tr>\n",
       "  </tbody>\n",
       "</table>\n",
       "</div>"
      ],
      "text/plain": [
       "                      Region  Strategy &\\nOperations  Cloud Computing  \\\n",
       "0              United States                    0.63             0.37   \n",
       "1       United States : West                    0.64             0.45   \n",
       "2    United States : Midwest                    0.85             0.41   \n",
       "3  United States : Northeast                    0.40             0.35   \n",
       "4      United States : South                    0.51             0.30   \n",
       "\n",
       "   Computer Networking  Computer Programming  Databases  Mobile Development  \\\n",
       "0                 0.70                  0.75       0.63                0.62   \n",
       "1                 0.67                  0.91       0.83                0.74   \n",
       "2                 0.77                  0.58       0.23                0.43   \n",
       "3                 0.66                  0.74       0.94                0.63   \n",
       "4                 0.73                  0.54       0.29                0.51   \n",
       "\n",
       "   Operating Systems  Security Engineering  Software Engineering  \\\n",
       "0               0.12                  0.55                  0.92   \n",
       "1               0.07                  0.52                  0.98   \n",
       "2               0.09                  0.51                  0.76   \n",
       "3               0.13                  0.58                  0.87   \n",
       "4               0.11                  0.62                  0.83   \n",
       "\n",
       "   Theoretical Computer Science  Web Development  Data Analysis  \\\n",
       "0                          0.60             0.98           0.55   \n",
       "1                          0.80             1.00           0.54   \n",
       "2                          0.48             0.21           0.65   \n",
       "3                          0.69             0.38           0.47   \n",
       "4                          0.40             0.18           0.53   \n",
       "\n",
       "   Data Management  Data Visualization  Machine Learning  Mathematics  \\\n",
       "0             0.82                0.81              0.77         0.56   \n",
       "1             0.95                0.95              0.93         0.72   \n",
       "2             0.77                0.73              0.71         0.47   \n",
       "3             0.88                0.70              0.74         0.68   \n",
       "4             0.68                0.67              0.58         0.34   \n",
       "\n",
       "   Probability & Statistics  Statistical Programming  \n",
       "0                      0.79                     0.58  \n",
       "1                      0.88                     0.78  \n",
       "2                      0.83                     0.51  \n",
       "3                      0.76                     0.57  \n",
       "4                      0.66                     0.46  "
      ]
     },
     "execution_count": 17,
     "metadata": {},
     "output_type": "execute_result"
    }
   ],
   "source": [
    "final"
   ]
  },
  {
   "cell_type": "code",
   "execution_count": 30,
   "id": "fdbc7123",
   "metadata": {
    "slideshow": {
     "slide_type": "slide"
    }
   },
   "outputs": [],
   "source": [
    "final.drop(\"Strategy &\\nOperations\", axis=1,inplace=True)"
   ]
  },
  {
   "cell_type": "code",
   "execution_count": 31,
   "id": "e4af3548",
   "metadata": {
    "slideshow": {
     "slide_type": "slide"
    }
   },
   "outputs": [
    {
     "data": {
      "text/html": [
       "<div>\n",
       "<style scoped>\n",
       "    .dataframe tbody tr th:only-of-type {\n",
       "        vertical-align: middle;\n",
       "    }\n",
       "\n",
       "    .dataframe tbody tr th {\n",
       "        vertical-align: top;\n",
       "    }\n",
       "\n",
       "    .dataframe thead th {\n",
       "        text-align: right;\n",
       "    }\n",
       "</style>\n",
       "<table border=\"1\" class=\"dataframe\">\n",
       "  <thead>\n",
       "    <tr style=\"text-align: right;\">\n",
       "      <th></th>\n",
       "      <th>Region</th>\n",
       "      <th>Cloud Computing</th>\n",
       "      <th>Computer Networking</th>\n",
       "      <th>Computer Programming</th>\n",
       "      <th>Databases</th>\n",
       "      <th>Mobile Development</th>\n",
       "      <th>Operating Systems</th>\n",
       "      <th>Security Engineering</th>\n",
       "      <th>Software Engineering</th>\n",
       "      <th>Theoretical Computer Science</th>\n",
       "      <th>Web Development</th>\n",
       "      <th>Data Analysis</th>\n",
       "      <th>Data Management</th>\n",
       "      <th>Data Visualization</th>\n",
       "      <th>Machine Learning</th>\n",
       "      <th>Mathematics</th>\n",
       "      <th>Probability &amp; Statistics</th>\n",
       "      <th>Statistical Programming</th>\n",
       "    </tr>\n",
       "  </thead>\n",
       "  <tbody>\n",
       "    <tr>\n",
       "      <th>0</th>\n",
       "      <td>United States</td>\n",
       "      <td>0.37</td>\n",
       "      <td>0.70</td>\n",
       "      <td>0.75</td>\n",
       "      <td>0.63</td>\n",
       "      <td>0.62</td>\n",
       "      <td>0.12</td>\n",
       "      <td>0.55</td>\n",
       "      <td>0.92</td>\n",
       "      <td>0.60</td>\n",
       "      <td>0.98</td>\n",
       "      <td>0.55</td>\n",
       "      <td>0.82</td>\n",
       "      <td>0.81</td>\n",
       "      <td>0.77</td>\n",
       "      <td>0.56</td>\n",
       "      <td>0.79</td>\n",
       "      <td>0.58</td>\n",
       "    </tr>\n",
       "    <tr>\n",
       "      <th>1</th>\n",
       "      <td>United States : West</td>\n",
       "      <td>0.45</td>\n",
       "      <td>0.67</td>\n",
       "      <td>0.91</td>\n",
       "      <td>0.83</td>\n",
       "      <td>0.74</td>\n",
       "      <td>0.07</td>\n",
       "      <td>0.52</td>\n",
       "      <td>0.98</td>\n",
       "      <td>0.80</td>\n",
       "      <td>1.00</td>\n",
       "      <td>0.54</td>\n",
       "      <td>0.95</td>\n",
       "      <td>0.95</td>\n",
       "      <td>0.93</td>\n",
       "      <td>0.72</td>\n",
       "      <td>0.88</td>\n",
       "      <td>0.78</td>\n",
       "    </tr>\n",
       "    <tr>\n",
       "      <th>2</th>\n",
       "      <td>United States : Midwest</td>\n",
       "      <td>0.41</td>\n",
       "      <td>0.77</td>\n",
       "      <td>0.58</td>\n",
       "      <td>0.23</td>\n",
       "      <td>0.43</td>\n",
       "      <td>0.09</td>\n",
       "      <td>0.51</td>\n",
       "      <td>0.76</td>\n",
       "      <td>0.48</td>\n",
       "      <td>0.21</td>\n",
       "      <td>0.65</td>\n",
       "      <td>0.77</td>\n",
       "      <td>0.73</td>\n",
       "      <td>0.71</td>\n",
       "      <td>0.47</td>\n",
       "      <td>0.83</td>\n",
       "      <td>0.51</td>\n",
       "    </tr>\n",
       "    <tr>\n",
       "      <th>3</th>\n",
       "      <td>United States : Northeast</td>\n",
       "      <td>0.35</td>\n",
       "      <td>0.66</td>\n",
       "      <td>0.74</td>\n",
       "      <td>0.94</td>\n",
       "      <td>0.63</td>\n",
       "      <td>0.13</td>\n",
       "      <td>0.58</td>\n",
       "      <td>0.87</td>\n",
       "      <td>0.69</td>\n",
       "      <td>0.38</td>\n",
       "      <td>0.47</td>\n",
       "      <td>0.88</td>\n",
       "      <td>0.70</td>\n",
       "      <td>0.74</td>\n",
       "      <td>0.68</td>\n",
       "      <td>0.76</td>\n",
       "      <td>0.57</td>\n",
       "    </tr>\n",
       "    <tr>\n",
       "      <th>4</th>\n",
       "      <td>United States : South</td>\n",
       "      <td>0.30</td>\n",
       "      <td>0.73</td>\n",
       "      <td>0.54</td>\n",
       "      <td>0.29</td>\n",
       "      <td>0.51</td>\n",
       "      <td>0.11</td>\n",
       "      <td>0.62</td>\n",
       "      <td>0.83</td>\n",
       "      <td>0.40</td>\n",
       "      <td>0.18</td>\n",
       "      <td>0.53</td>\n",
       "      <td>0.68</td>\n",
       "      <td>0.67</td>\n",
       "      <td>0.58</td>\n",
       "      <td>0.34</td>\n",
       "      <td>0.66</td>\n",
       "      <td>0.46</td>\n",
       "    </tr>\n",
       "  </tbody>\n",
       "</table>\n",
       "</div>"
      ],
      "text/plain": [
       "                      Region  Cloud Computing  Computer Networking  \\\n",
       "0              United States             0.37                 0.70   \n",
       "1       United States : West             0.45                 0.67   \n",
       "2    United States : Midwest             0.41                 0.77   \n",
       "3  United States : Northeast             0.35                 0.66   \n",
       "4      United States : South             0.30                 0.73   \n",
       "\n",
       "   Computer Programming  Databases  Mobile Development  Operating Systems  \\\n",
       "0                  0.75       0.63                0.62               0.12   \n",
       "1                  0.91       0.83                0.74               0.07   \n",
       "2                  0.58       0.23                0.43               0.09   \n",
       "3                  0.74       0.94                0.63               0.13   \n",
       "4                  0.54       0.29                0.51               0.11   \n",
       "\n",
       "   Security Engineering  Software Engineering  Theoretical Computer Science  \\\n",
       "0                  0.55                  0.92                          0.60   \n",
       "1                  0.52                  0.98                          0.80   \n",
       "2                  0.51                  0.76                          0.48   \n",
       "3                  0.58                  0.87                          0.69   \n",
       "4                  0.62                  0.83                          0.40   \n",
       "\n",
       "   Web Development  Data Analysis  Data Management  Data Visualization  \\\n",
       "0             0.98           0.55             0.82                0.81   \n",
       "1             1.00           0.54             0.95                0.95   \n",
       "2             0.21           0.65             0.77                0.73   \n",
       "3             0.38           0.47             0.88                0.70   \n",
       "4             0.18           0.53             0.68                0.67   \n",
       "\n",
       "   Machine Learning  Mathematics  Probability & Statistics  \\\n",
       "0              0.77         0.56                      0.79   \n",
       "1              0.93         0.72                      0.88   \n",
       "2              0.71         0.47                      0.83   \n",
       "3              0.74         0.68                      0.76   \n",
       "4              0.58         0.34                      0.66   \n",
       "\n",
       "   Statistical Programming  \n",
       "0                     0.58  \n",
       "1                     0.78  \n",
       "2                     0.51  \n",
       "3                     0.57  \n",
       "4                     0.46  "
      ]
     },
     "execution_count": 31,
     "metadata": {},
     "output_type": "execute_result"
    }
   ],
   "source": [
    "final"
   ]
  },
  {
   "cell_type": "markdown",
   "id": "1c0bd512",
   "metadata": {
    "slideshow": {
     "slide_type": "slide"
    }
   },
   "source": [
    "### describe(): to generate descriptive statistics that summarize central tendency, dispersion and shape of a dataset's distribution, excluding NaN values."
   ]
  },
  {
   "cell_type": "code",
   "execution_count": 32,
   "id": "4a3b0be2",
   "metadata": {
    "slideshow": {
     "slide_type": "slide"
    }
   },
   "outputs": [],
   "source": [
    "summary = final.describe()"
   ]
  },
  {
   "cell_type": "code",
   "execution_count": 33,
   "id": "00fb7eb6",
   "metadata": {
    "slideshow": {
     "slide_type": "slide"
    }
   },
   "outputs": [
    {
     "data": {
      "text/html": [
       "<div>\n",
       "<style scoped>\n",
       "    .dataframe tbody tr th:only-of-type {\n",
       "        vertical-align: middle;\n",
       "    }\n",
       "\n",
       "    .dataframe tbody tr th {\n",
       "        vertical-align: top;\n",
       "    }\n",
       "\n",
       "    .dataframe thead th {\n",
       "        text-align: right;\n",
       "    }\n",
       "</style>\n",
       "<table border=\"1\" class=\"dataframe\">\n",
       "  <thead>\n",
       "    <tr style=\"text-align: right;\">\n",
       "      <th></th>\n",
       "      <th>Cloud Computing</th>\n",
       "      <th>Computer Networking</th>\n",
       "      <th>Computer Programming</th>\n",
       "      <th>Databases</th>\n",
       "      <th>Mobile Development</th>\n",
       "      <th>Operating Systems</th>\n",
       "      <th>Security Engineering</th>\n",
       "      <th>Software Engineering</th>\n",
       "      <th>Theoretical Computer Science</th>\n",
       "      <th>Web Development</th>\n",
       "      <th>Data Analysis</th>\n",
       "      <th>Data Management</th>\n",
       "      <th>Data Visualization</th>\n",
       "      <th>Machine Learning</th>\n",
       "      <th>Mathematics</th>\n",
       "      <th>Probability &amp; Statistics</th>\n",
       "      <th>Statistical Programming</th>\n",
       "    </tr>\n",
       "  </thead>\n",
       "  <tbody>\n",
       "    <tr>\n",
       "      <th>count</th>\n",
       "      <td>5.000000</td>\n",
       "      <td>5.000000</td>\n",
       "      <td>5.000000</td>\n",
       "      <td>5.00000</td>\n",
       "      <td>5.00000</td>\n",
       "      <td>5.000000</td>\n",
       "      <td>5.000000</td>\n",
       "      <td>5.000000</td>\n",
       "      <td>5.000000</td>\n",
       "      <td>5.000000</td>\n",
       "      <td>5.000000</td>\n",
       "      <td>5.000000</td>\n",
       "      <td>5.000000</td>\n",
       "      <td>5.000000</td>\n",
       "      <td>5.000000</td>\n",
       "      <td>5.000000</td>\n",
       "      <td>5.000000</td>\n",
       "    </tr>\n",
       "    <tr>\n",
       "      <th>mean</th>\n",
       "      <td>0.376000</td>\n",
       "      <td>0.706000</td>\n",
       "      <td>0.704000</td>\n",
       "      <td>0.58400</td>\n",
       "      <td>0.58600</td>\n",
       "      <td>0.104000</td>\n",
       "      <td>0.556000</td>\n",
       "      <td>0.872000</td>\n",
       "      <td>0.594000</td>\n",
       "      <td>0.550000</td>\n",
       "      <td>0.548000</td>\n",
       "      <td>0.820000</td>\n",
       "      <td>0.772000</td>\n",
       "      <td>0.746000</td>\n",
       "      <td>0.554000</td>\n",
       "      <td>0.784000</td>\n",
       "      <td>0.580000</td>\n",
       "    </tr>\n",
       "    <tr>\n",
       "      <th>std</th>\n",
       "      <td>0.057271</td>\n",
       "      <td>0.045056</td>\n",
       "      <td>0.148425</td>\n",
       "      <td>0.31667</td>\n",
       "      <td>0.11929</td>\n",
       "      <td>0.024083</td>\n",
       "      <td>0.045056</td>\n",
       "      <td>0.084083</td>\n",
       "      <td>0.159937</td>\n",
       "      <td>0.408901</td>\n",
       "      <td>0.064962</td>\n",
       "      <td>0.103199</td>\n",
       "      <td>0.112339</td>\n",
       "      <td>0.125817</td>\n",
       "      <td>0.155177</td>\n",
       "      <td>0.082644</td>\n",
       "      <td>0.121861</td>\n",
       "    </tr>\n",
       "    <tr>\n",
       "      <th>min</th>\n",
       "      <td>0.300000</td>\n",
       "      <td>0.660000</td>\n",
       "      <td>0.540000</td>\n",
       "      <td>0.23000</td>\n",
       "      <td>0.43000</td>\n",
       "      <td>0.070000</td>\n",
       "      <td>0.510000</td>\n",
       "      <td>0.760000</td>\n",
       "      <td>0.400000</td>\n",
       "      <td>0.180000</td>\n",
       "      <td>0.470000</td>\n",
       "      <td>0.680000</td>\n",
       "      <td>0.670000</td>\n",
       "      <td>0.580000</td>\n",
       "      <td>0.340000</td>\n",
       "      <td>0.660000</td>\n",
       "      <td>0.460000</td>\n",
       "    </tr>\n",
       "    <tr>\n",
       "      <th>25%</th>\n",
       "      <td>0.350000</td>\n",
       "      <td>0.670000</td>\n",
       "      <td>0.580000</td>\n",
       "      <td>0.29000</td>\n",
       "      <td>0.51000</td>\n",
       "      <td>0.090000</td>\n",
       "      <td>0.520000</td>\n",
       "      <td>0.830000</td>\n",
       "      <td>0.480000</td>\n",
       "      <td>0.210000</td>\n",
       "      <td>0.530000</td>\n",
       "      <td>0.770000</td>\n",
       "      <td>0.700000</td>\n",
       "      <td>0.710000</td>\n",
       "      <td>0.470000</td>\n",
       "      <td>0.760000</td>\n",
       "      <td>0.510000</td>\n",
       "    </tr>\n",
       "    <tr>\n",
       "      <th>50%</th>\n",
       "      <td>0.370000</td>\n",
       "      <td>0.700000</td>\n",
       "      <td>0.740000</td>\n",
       "      <td>0.63000</td>\n",
       "      <td>0.62000</td>\n",
       "      <td>0.110000</td>\n",
       "      <td>0.550000</td>\n",
       "      <td>0.870000</td>\n",
       "      <td>0.600000</td>\n",
       "      <td>0.380000</td>\n",
       "      <td>0.540000</td>\n",
       "      <td>0.820000</td>\n",
       "      <td>0.730000</td>\n",
       "      <td>0.740000</td>\n",
       "      <td>0.560000</td>\n",
       "      <td>0.790000</td>\n",
       "      <td>0.570000</td>\n",
       "    </tr>\n",
       "    <tr>\n",
       "      <th>75%</th>\n",
       "      <td>0.410000</td>\n",
       "      <td>0.730000</td>\n",
       "      <td>0.750000</td>\n",
       "      <td>0.83000</td>\n",
       "      <td>0.63000</td>\n",
       "      <td>0.120000</td>\n",
       "      <td>0.580000</td>\n",
       "      <td>0.920000</td>\n",
       "      <td>0.690000</td>\n",
       "      <td>0.980000</td>\n",
       "      <td>0.550000</td>\n",
       "      <td>0.880000</td>\n",
       "      <td>0.810000</td>\n",
       "      <td>0.770000</td>\n",
       "      <td>0.680000</td>\n",
       "      <td>0.830000</td>\n",
       "      <td>0.580000</td>\n",
       "    </tr>\n",
       "    <tr>\n",
       "      <th>max</th>\n",
       "      <td>0.450000</td>\n",
       "      <td>0.770000</td>\n",
       "      <td>0.910000</td>\n",
       "      <td>0.94000</td>\n",
       "      <td>0.74000</td>\n",
       "      <td>0.130000</td>\n",
       "      <td>0.620000</td>\n",
       "      <td>0.980000</td>\n",
       "      <td>0.800000</td>\n",
       "      <td>1.000000</td>\n",
       "      <td>0.650000</td>\n",
       "      <td>0.950000</td>\n",
       "      <td>0.950000</td>\n",
       "      <td>0.930000</td>\n",
       "      <td>0.720000</td>\n",
       "      <td>0.880000</td>\n",
       "      <td>0.780000</td>\n",
       "    </tr>\n",
       "  </tbody>\n",
       "</table>\n",
       "</div>"
      ],
      "text/plain": [
       "       Cloud Computing  Computer Networking  Computer Programming  Databases  \\\n",
       "count         5.000000             5.000000              5.000000    5.00000   \n",
       "mean          0.376000             0.706000              0.704000    0.58400   \n",
       "std           0.057271             0.045056              0.148425    0.31667   \n",
       "min           0.300000             0.660000              0.540000    0.23000   \n",
       "25%           0.350000             0.670000              0.580000    0.29000   \n",
       "50%           0.370000             0.700000              0.740000    0.63000   \n",
       "75%           0.410000             0.730000              0.750000    0.83000   \n",
       "max           0.450000             0.770000              0.910000    0.94000   \n",
       "\n",
       "       Mobile Development  Operating Systems  Security Engineering  \\\n",
       "count             5.00000           5.000000              5.000000   \n",
       "mean              0.58600           0.104000              0.556000   \n",
       "std               0.11929           0.024083              0.045056   \n",
       "min               0.43000           0.070000              0.510000   \n",
       "25%               0.51000           0.090000              0.520000   \n",
       "50%               0.62000           0.110000              0.550000   \n",
       "75%               0.63000           0.120000              0.580000   \n",
       "max               0.74000           0.130000              0.620000   \n",
       "\n",
       "       Software Engineering  Theoretical Computer Science  Web Development  \\\n",
       "count              5.000000                      5.000000         5.000000   \n",
       "mean               0.872000                      0.594000         0.550000   \n",
       "std                0.084083                      0.159937         0.408901   \n",
       "min                0.760000                      0.400000         0.180000   \n",
       "25%                0.830000                      0.480000         0.210000   \n",
       "50%                0.870000                      0.600000         0.380000   \n",
       "75%                0.920000                      0.690000         0.980000   \n",
       "max                0.980000                      0.800000         1.000000   \n",
       "\n",
       "       Data Analysis  Data Management  Data Visualization  Machine Learning  \\\n",
       "count       5.000000         5.000000            5.000000          5.000000   \n",
       "mean        0.548000         0.820000            0.772000          0.746000   \n",
       "std         0.064962         0.103199            0.112339          0.125817   \n",
       "min         0.470000         0.680000            0.670000          0.580000   \n",
       "25%         0.530000         0.770000            0.700000          0.710000   \n",
       "50%         0.540000         0.820000            0.730000          0.740000   \n",
       "75%         0.550000         0.880000            0.810000          0.770000   \n",
       "max         0.650000         0.950000            0.950000          0.930000   \n",
       "\n",
       "       Mathematics  Probability & Statistics  Statistical Programming  \n",
       "count     5.000000                  5.000000                 5.000000  \n",
       "mean      0.554000                  0.784000                 0.580000  \n",
       "std       0.155177                  0.082644                 0.121861  \n",
       "min       0.340000                  0.660000                 0.460000  \n",
       "25%       0.470000                  0.760000                 0.510000  \n",
       "50%       0.560000                  0.790000                 0.570000  \n",
       "75%       0.680000                  0.830000                 0.580000  \n",
       "max       0.720000                  0.880000                 0.780000  "
      ]
     },
     "execution_count": 33,
     "metadata": {},
     "output_type": "execute_result"
    }
   ],
   "source": [
    "summary"
   ]
  },
  {
   "cell_type": "markdown",
   "id": "8b912411",
   "metadata": {
    "slideshow": {
     "slide_type": "slide"
    }
   },
   "source": [
    "### Let's explore some in graphs focusing on \"mean or average\""
   ]
  },
  {
   "cell_type": "code",
   "execution_count": 37,
   "id": "a51b6849",
   "metadata": {
    "slideshow": {
     "slide_type": "slide"
    }
   },
   "outputs": [
    {
     "name": "stdout",
     "output_type": "stream",
     "text": [
      "Average Value on Data Management:  1.252899854650344\n"
     ]
    },
    {
     "name": "stderr",
     "output_type": "stream",
     "text": [
      "C:\\Users\\lang\\anaconda3\\lib\\site-packages\\seaborn\\distributions.py:2557: FutureWarning: `distplot` is a deprecated function and will be removed in a future version. Please adapt your code to use either `displot` (a figure-level function with similar flexibility) or `histplot` (an axes-level function for histograms).\n",
      "  warnings.warn(msg, FutureWarning)\n"
     ]
    },
    {
     "data": {
      "text/plain": [
       "<function matplotlib.pyplot.show(close=None, block=None)>"
      ]
     },
     "execution_count": 37,
     "metadata": {},
     "output_type": "execute_result"
    },
    {
     "data": {
      "image/png": "[encoded data removed]",
      "text/plain": [
       "<Figure size 432x288 with 1 Axes>"
      ]
     },
     "metadata": {
      "needs_background": "light"
     },
     "output_type": "display_data"
    }
   ],
   "source": [
    "print ('Average Value on Data Management: ', summary['Data Management'].mean())\n",
    "sea.distplot(summary['Data Management'])\n",
    "plt.xlabel('Data Management', size=16)\n",
    "plt.show"
   ]
  },
  {
   "cell_type": "code",
   "execution_count": 38,
   "id": "bc56eb2d",
   "metadata": {
    "slideshow": {
     "slide_type": "skip"
    }
   },
   "outputs": [
    {
     "data": {
      "text/html": [
       "<div>\n",
       "<style scoped>\n",
       "    .dataframe tbody tr th:only-of-type {\n",
       "        vertical-align: middle;\n",
       "    }\n",
       "\n",
       "    .dataframe tbody tr th {\n",
       "        vertical-align: top;\n",
       "    }\n",
       "\n",
       "    .dataframe thead th {\n",
       "        text-align: right;\n",
       "    }\n",
       "</style>\n",
       "<table border=\"1\" class=\"dataframe\">\n",
       "  <thead>\n",
       "    <tr style=\"text-align: right;\">\n",
       "      <th></th>\n",
       "      <th>Region</th>\n",
       "      <th>Cloud Computing</th>\n",
       "      <th>Computer Networking</th>\n",
       "      <th>Computer Programming</th>\n",
       "      <th>Databases</th>\n",
       "      <th>Mobile Development</th>\n",
       "      <th>Operating Systems</th>\n",
       "      <th>Security Engineering</th>\n",
       "      <th>Software Engineering</th>\n",
       "      <th>Theoretical Computer Science</th>\n",
       "      <th>Web Development</th>\n",
       "      <th>Data Analysis</th>\n",
       "      <th>Data Management</th>\n",
       "      <th>Data Visualization</th>\n",
       "      <th>Machine Learning</th>\n",
       "      <th>Mathematics</th>\n",
       "      <th>Probability &amp; Statistics</th>\n",
       "      <th>Statistical Programming</th>\n",
       "    </tr>\n",
       "  </thead>\n",
       "  <tbody>\n",
       "    <tr>\n",
       "      <th>0</th>\n",
       "      <td>United States</td>\n",
       "      <td>0.37</td>\n",
       "      <td>0.70</td>\n",
       "      <td>0.75</td>\n",
       "      <td>0.63</td>\n",
       "      <td>0.62</td>\n",
       "      <td>0.12</td>\n",
       "      <td>0.55</td>\n",
       "      <td>0.92</td>\n",
       "      <td>0.60</td>\n",
       "      <td>0.98</td>\n",
       "      <td>0.55</td>\n",
       "      <td>0.82</td>\n",
       "      <td>0.81</td>\n",
       "      <td>0.77</td>\n",
       "      <td>0.56</td>\n",
       "      <td>0.79</td>\n",
       "      <td>0.58</td>\n",
       "    </tr>\n",
       "    <tr>\n",
       "      <th>1</th>\n",
       "      <td>United States : West</td>\n",
       "      <td>0.45</td>\n",
       "      <td>0.67</td>\n",
       "      <td>0.91</td>\n",
       "      <td>0.83</td>\n",
       "      <td>0.74</td>\n",
       "      <td>0.07</td>\n",
       "      <td>0.52</td>\n",
       "      <td>0.98</td>\n",
       "      <td>0.80</td>\n",
       "      <td>1.00</td>\n",
       "      <td>0.54</td>\n",
       "      <td>0.95</td>\n",
       "      <td>0.95</td>\n",
       "      <td>0.93</td>\n",
       "      <td>0.72</td>\n",
       "      <td>0.88</td>\n",
       "      <td>0.78</td>\n",
       "    </tr>\n",
       "    <tr>\n",
       "      <th>2</th>\n",
       "      <td>United States : Midwest</td>\n",
       "      <td>0.41</td>\n",
       "      <td>0.77</td>\n",
       "      <td>0.58</td>\n",
       "      <td>0.23</td>\n",
       "      <td>0.43</td>\n",
       "      <td>0.09</td>\n",
       "      <td>0.51</td>\n",
       "      <td>0.76</td>\n",
       "      <td>0.48</td>\n",
       "      <td>0.21</td>\n",
       "      <td>0.65</td>\n",
       "      <td>0.77</td>\n",
       "      <td>0.73</td>\n",
       "      <td>0.71</td>\n",
       "      <td>0.47</td>\n",
       "      <td>0.83</td>\n",
       "      <td>0.51</td>\n",
       "    </tr>\n",
       "    <tr>\n",
       "      <th>3</th>\n",
       "      <td>United States : Northeast</td>\n",
       "      <td>0.35</td>\n",
       "      <td>0.66</td>\n",
       "      <td>0.74</td>\n",
       "      <td>0.94</td>\n",
       "      <td>0.63</td>\n",
       "      <td>0.13</td>\n",
       "      <td>0.58</td>\n",
       "      <td>0.87</td>\n",
       "      <td>0.69</td>\n",
       "      <td>0.38</td>\n",
       "      <td>0.47</td>\n",
       "      <td>0.88</td>\n",
       "      <td>0.70</td>\n",
       "      <td>0.74</td>\n",
       "      <td>0.68</td>\n",
       "      <td>0.76</td>\n",
       "      <td>0.57</td>\n",
       "    </tr>\n",
       "    <tr>\n",
       "      <th>4</th>\n",
       "      <td>United States : South</td>\n",
       "      <td>0.30</td>\n",
       "      <td>0.73</td>\n",
       "      <td>0.54</td>\n",
       "      <td>0.29</td>\n",
       "      <td>0.51</td>\n",
       "      <td>0.11</td>\n",
       "      <td>0.62</td>\n",
       "      <td>0.83</td>\n",
       "      <td>0.40</td>\n",
       "      <td>0.18</td>\n",
       "      <td>0.53</td>\n",
       "      <td>0.68</td>\n",
       "      <td>0.67</td>\n",
       "      <td>0.58</td>\n",
       "      <td>0.34</td>\n",
       "      <td>0.66</td>\n",
       "      <td>0.46</td>\n",
       "    </tr>\n",
       "  </tbody>\n",
       "</table>\n",
       "</div>"
      ],
      "text/plain": [
       "                      Region  Cloud Computing  Computer Networking  \\\n",
       "0              United States             0.37                 0.70   \n",
       "1       United States : West             0.45                 0.67   \n",
       "2    United States : Midwest             0.41                 0.77   \n",
       "3  United States : Northeast             0.35                 0.66   \n",
       "4      United States : South             0.30                 0.73   \n",
       "\n",
       "   Computer Programming  Databases  Mobile Development  Operating Systems  \\\n",
       "0                  0.75       0.63                0.62               0.12   \n",
       "1                  0.91       0.83                0.74               0.07   \n",
       "2                  0.58       0.23                0.43               0.09   \n",
       "3                  0.74       0.94                0.63               0.13   \n",
       "4                  0.54       0.29                0.51               0.11   \n",
       "\n",
       "   Security Engineering  Software Engineering  Theoretical Computer Science  \\\n",
       "0                  0.55                  0.92                          0.60   \n",
       "1                  0.52                  0.98                          0.80   \n",
       "2                  0.51                  0.76                          0.48   \n",
       "3                  0.58                  0.87                          0.69   \n",
       "4                  0.62                  0.83                          0.40   \n",
       "\n",
       "   Web Development  Data Analysis  Data Management  Data Visualization  \\\n",
       "0             0.98           0.55             0.82                0.81   \n",
       "1             1.00           0.54             0.95                0.95   \n",
       "2             0.21           0.65             0.77                0.73   \n",
       "3             0.38           0.47             0.88                0.70   \n",
       "4             0.18           0.53             0.68                0.67   \n",
       "\n",
       "   Machine Learning  Mathematics  Probability & Statistics  \\\n",
       "0              0.77         0.56                      0.79   \n",
       "1              0.93         0.72                      0.88   \n",
       "2              0.71         0.47                      0.83   \n",
       "3              0.74         0.68                      0.76   \n",
       "4              0.58         0.34                      0.66   \n",
       "\n",
       "   Statistical Programming  \n",
       "0                     0.58  \n",
       "1                     0.78  \n",
       "2                     0.51  \n",
       "3                     0.57  \n",
       "4                     0.46  "
      ]
     },
     "execution_count": 38,
     "metadata": {},
     "output_type": "execute_result"
    }
   ],
   "source": [
    "final"
   ]
  },
  {
   "cell_type": "markdown",
   "id": "4fc7c596",
   "metadata": {
    "slideshow": {
     "slide_type": "slide"
    }
   },
   "source": [
    "### Let us just do some seaborn aggregation on \"computer programming\" and \"statistical programming\""
   ]
  },
  {
   "cell_type": "code",
   "execution_count": 39,
   "id": "0a9c845e",
   "metadata": {
    "slideshow": {
     "slide_type": "slide"
    }
   },
   "outputs": [
    {
     "data": {
      "image/png": "[encoded data removed]",
      "text/plain": [
       "<Figure size 1800x360 with 5 Axes>"
      ]
     },
     "metadata": {
      "needs_background": "light"
     },
     "output_type": "display_data"
    }
   ],
   "source": [
    "sea.relplot(x='Computer Programming', y='Statistical Programming', col='Region', data=final);"
   ]
  },
  {
   "cell_type": "markdown",
   "id": "e81c08ac",
   "metadata": {
    "slideshow": {
     "slide_type": "slide"
    }
   },
   "source": [
    "### Let us see some classic popular bar chart "
   ]
  },
  {
   "cell_type": "code",
   "execution_count": 40,
   "id": "28f401ac",
   "metadata": {
    "slideshow": {
     "slide_type": "slide"
    }
   },
   "outputs": [
    {
     "data": {
      "text/plain": [
       "<AxesSubplot:>"
      ]
     },
     "execution_count": 40,
     "metadata": {},
     "output_type": "execute_result"
    },
    {
     "data": {
      "image/png": "[encoded data removed]",
      "text/plain": [
       "<Figure size 432x288 with 1 Axes>"
      ]
     },
     "metadata": {
      "needs_background": "light"
     },
     "output_type": "display_data"
    }
   ],
   "source": [
    "final.mean().plot.bar()\n"
   ]
  },
  {
   "cell_type": "markdown",
   "id": "aa56e242",
   "metadata": {
    "slideshow": {
     "slide_type": "slide"
    }
   },
   "source": [
    "### From above bar chart, we know that 'Software Engineering' is the highest one. Let us check how 'Software Engineering' is doing by 'Region'."
   ]
  },
  {
   "cell_type": "code",
   "execution_count": 44,
   "id": "dd66f641",
   "metadata": {
    "slideshow": {
     "slide_type": "slide"
    }
   },
   "outputs": [
    {
     "data": {
      "text/plain": [
       "<seaborn.axisgrid.FacetGrid at 0x20a772c9b20>"
      ]
     },
     "execution_count": 44,
     "metadata": {},
     "output_type": "execute_result"
    },
    {
     "data": {
      "image/png": "[encoded data removed]",
      "text/plain": [
       "<Figure size 360x360 with 1 Axes>"
      ]
     },
     "metadata": {
      "needs_background": "light"
     },
     "output_type": "display_data"
    }
   ],
   "source": [
    "sea.catplot(x='Software Engineering', y='Region', data=final)"
   ]
  },
  {
   "cell_type": "markdown",
   "id": "32d79cae",
   "metadata": {
    "slideshow": {
     "slide_type": "slide"
    }
   },
   "source": [
    "### Let us check the overall results of \"United States Region\" by using .iloc method"
   ]
  },
  {
   "cell_type": "code",
   "execution_count": 49,
   "id": "c1009719",
   "metadata": {
    "slideshow": {
     "slide_type": "slide"
    }
   },
   "outputs": [
    {
     "name": "stdout",
     "output_type": "stream",
     "text": [
      "Region                          United States\n",
      "Cloud Computing                          0.37\n",
      "Computer Networking                       0.7\n",
      "Computer Programming                     0.75\n",
      "Databases                                0.63\n",
      "Mobile Development                       0.62\n",
      "Operating Systems                        0.12\n",
      "Security Engineering                     0.55\n",
      "Software Engineering                     0.92\n",
      "Theoretical Computer Science              0.6\n",
      "Web Development                          0.98\n",
      "Data Analysis                            0.55\n",
      "Data Management                          0.82\n",
      "Data Visualization                       0.81\n",
      "Machine Learning                         0.77\n",
      "Mathematics                              0.56\n",
      "Probability & Statistics                 0.79\n",
      "Statistical Programming                  0.58\n",
      "Name: 0, dtype: object\n"
     ]
    }
   ],
   "source": [
    "USA = final.iloc[0]\n",
    "print(USA)"
   ]
  },
  {
   "cell_type": "markdown",
   "id": "a96fa420",
   "metadata": {
    "slideshow": {
     "slide_type": "slide"
    }
   },
   "source": [
    "## One feature that did not cover in class\n",
    "### by adding \"RISE\" into Anaconda, we will create a presentation with Jupyter Notebook."
   ]
  },
  {
   "cell_type": "markdown",
   "id": "2f2d0577",
   "metadata": {
    "slideshow": {
     "slide_type": "slide"
    }
   },
   "source": [
    "## One challenge you encountered in code\n",
    "### Seaborn's various plots and their features and variety of codes are always still tricky and challenging for me."
   ]
  },
  {
   "cell_type": "markdown",
   "id": "004381d3",
   "metadata": {
    "slideshow": {
     "slide_type": "slide"
    }
   },
   "source": [
    "## Main Conclusion\n",
    "### While there are many different skills in technology and the trending of which can be seen above, my main conclusion is that they all are powerfully trending aka still in use in the industry which in turns reminds me that no matter which skills you pocess, you should be able to have a career out of it, probably even while enjoy doing it. "
   ]
  },
  {
   "cell_type": "markdown",
   "id": "7ccb70c4",
   "metadata": {
    "slideshow": {
     "slide_type": "slide"
    }
   },
   "source": [
    "<h1> THANK YOU </h1>"
   ]
  }
 ],
 "metadata": {
  "celltoolbar": "Slideshow",
  "kernelspec": {
   "display_name": "Python 3",
   "language": "python",
   "name": "python3"
  },
  "language_info": {
   "codemirror_mode": {
    "name": "ipython",
    "version": 3
   },
   "file_extension": ".py",
   "mimetype": "text/x-python",
   "name": "python",
   "nbconvert_exporter": "python",
   "pygments_lexer": "ipython3",
   "version": "3.8.8"
  }
 },
 "nbformat": 4,
 "nbformat_minor": 5
}
